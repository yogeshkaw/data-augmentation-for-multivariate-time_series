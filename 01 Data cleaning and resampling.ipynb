{
 "cells": [
  {
   "cell_type": "code",
   "execution_count": null,
   "id": "dfa09ca5-30ef-40c0-acd7-72aecce430be",
   "metadata": {},
   "outputs": [],
   "source": [
    "import os\n",
    "from tqdm.notebook import tqdm\n",
    "import pandas as pd\n",
    "import numpy as np\n",
    "import json"
   ]
  },
  {
   "cell_type": "code",
   "execution_count": null,
   "id": "05659ef2",
   "metadata": {},
   "outputs": [],
   "source": [
    "signals_to_consider = ['acceleration_x', 'acceleration_y', 'acceleration_z', 'accelerator_pedal', 'accelerator_pedal_gradient_sign',\n",
    "                 'angular_velocity_omega_x', 'angular_velocity_omega_y', 'angular_velocity_omega_z', 'brake_pressure',\n",
    "                 'distance_pulse_front_left', 'distance_pulse_front_right', 'distance_pulse_rear_left', 'distance_pulse_rear_right',\n",
    "                 'latitude_degree', 'latitude_direction', 'longitude_degree', 'longitude_direction',\n",
    "                 'pitch_angle', 'roll_angle', 'steering_angle_calculated', 'steering_angle_calculated_sign', 'vehicle_speed']"
   ]
  },
  {
   "cell_type": "code",
   "execution_count": null,
   "id": "bf32d89d",
   "metadata": {},
   "outputs": [],
   "source": [
    "def get_data(path):\n",
    "    \n",
    "    with open(path) as f:\n",
    "       data = json.load(f)\n",
    "\n",
    "    return data   \n",
    "    \n",
    "\n",
    "def extract_signal(json_file, signal_name):\n",
    "    return pd.DataFrame(json_file[signal_name]['values'], columns=['timestamp',signal_name])\n",
    "\n",
    "def get_directory_for_dataset():\n",
    "    element_to_remove = '.DS_Store'\n",
    "\n",
    "    #directory = os.listdir('datasets/Audi a2d2/camera_lidar')\n",
    "    directory =['20190401_121727','20180810_150607','20190401_145936']\n",
    "    \n",
    "    if element_to_remove in directory:\n",
    "        directory.remove(element_to_remove)\n",
    "     \n",
    "    directory_file_name_prefix = [item.replace(\"_\", \"\") for item in directory]\n",
    "    return directory, directory_file_name_prefix\n",
    "\n",
    "def clean_resample_and_store(data, signals_names, directory_for_saving_data):#, resample_frequence_in_sec = 1):\n",
    "    #extracted_data\n",
    "    for i in signals_names:\n",
    "        if i == 'acceleration_x':\n",
    "            print(data)\n",
    "            extracted_data = extract_signal(data, i)\n",
    "        else:\n",
    "            extracted_data = pd.merge(extracted_data, extract_signal(data, i),on='timestamp',how='outer',sort=True)\n",
    "\n",
    "    # Convert microseconds to seconds\n",
    "    extracted_data['timestamp'] = extracted_data['timestamp'] / 1e6\n",
    "    extracted_data['timestamp'] = pd.to_datetime(extracted_data['timestamp'], unit='s')     \n",
    "    extracted_data = extracted_data.set_index('timestamp')\n",
    "    # resampling data\n",
    "    extracted_data = extracted_data.resample('s').mean().ffill() \n",
    "    extracted_data.to_csv(directory_for_saving_data,\n",
    "                          index=True)"
   ]
  },
  {
   "cell_type": "code",
   "execution_count": null,
   "id": "56b2e7a0-0ddc-4852-8116-0c4f22807fed",
   "metadata": {},
   "outputs": [],
   "source": [
    "directory, directory_file_name_prefix = get_directory_for_dataset()\n",
    "\n",
    "for i in tqdm(range(len(directory))):\n",
    "    path_of_file_inside_subdir = directory_file_name_prefix[i] + '_bus_signals.json'\n",
    "    file_path = 'datasets/Audi a2d2/camera_lidar/{}/bus/{}'.format(directory[i],path_of_file_inside_subdir)\n",
    "    print(file_path)\n",
    "    clean_resample_and_store(get_data(file_path),\n",
    "                              signals_to_consider, \n",
    "                              directory_for_saving_data='datasets/resampled_{}.csv'.format(directory_file_name_prefix[i]))"
   ]
  }
 ],
 "metadata": {
  "kernelspec": {
   "display_name": "Python 3 (ipykernel)",
   "language": "python",
   "name": "python3"
  },
  "language_info": {
   "codemirror_mode": {
    "name": "ipython",
    "version": 3
   },
   "file_extension": ".py",
   "mimetype": "text/x-python",
   "name": "python",
   "nbconvert_exporter": "python",
   "pygments_lexer": "ipython3",
   "version": "3.9.18"
  }
 },
 "nbformat": 4,
 "nbformat_minor": 5
}
